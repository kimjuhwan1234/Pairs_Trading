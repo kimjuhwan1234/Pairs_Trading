{
 "cells": [
  {
   "cell_type": "code",
   "execution_count": 1,
   "id": "initial_id",
   "metadata": {
    "collapsed": true,
    "ExecuteTime": {
     "end_time": "2024-06-16T15:03:55.414849900Z",
     "start_time": "2024-06-16T15:03:48.297922700Z"
    }
   },
   "outputs": [],
   "source": [
    "from PCA_and_ETC import *\n",
    "\n",
    "import Metrics as M\n",
    "\n",
    "result = pd.read_csv('../Files/Total_Result/Result/Best_result_modified.csv',index_col=0)\n",
    "result_modified = pd.DataFrame(\n",
    "    index=['count', 'annual return mean', 'annual return std', 'cumulative return'],\n",
    "    columns=result.index)"
   ]
  },
  {
   "cell_type": "code",
   "outputs": [],
   "source": [
    "US = True\n",
    "FTSE = False\n",
    "\n",
    "if US:\n",
    "    col = ['02/1990-12/1999', '01/2000-12/2002(9/11)', '01/2003-12/2006', '01/2007-12/2009(GFC)',\n",
    "           '01/2010-12/2019', '01/2020-12/2022(Covid-19)', 'Overall']\n",
    "\n",
    "    period = [range(0, 119), range(119, 155), range(155, 203), range(203, 239), range(239, 359), range(359, 391),\n",
    "              range(0, 391)]\n",
    "\n",
    "if not US and FTSE:\n",
    "    col = ['03/1990-12/1991', '01/1992-12/1994(Black_Wednesday)', '01/1995-12/2001(Dotcom_Bubble)', '01/2002-12/2006',\n",
    "           '01/2007-12/2009(GFC)',\n",
    "           '01/2010-12/2013(eurozone_crisis)', '01/2014-12/2015', '01/2016-12/2019(Brexit)',\n",
    "           '01/2020-12/2022(Covid-19)', '01/2023-07/2023', 'Overall']\n",
    "\n",
    "    period = [range(1, 23), range(23, 59), range(59, 143), range(143, 203), range(203, 239), range(239, 287),\n",
    "              range(287, 311), range(311, 359), range(359, 395), range(395, 402), range(1, 402)]\n",
    "\n",
    "if not US and not FTSE:\n",
    "    col = ['03/1990-12/1991', '01/1992-12/1994(Black_Wednesday)', '01/1995-12/2001(Dotcom_Bubble)', '01/2002-12/2006',\n",
    "           '01/2007-12/2009(GFC)',\n",
    "           '01/2010-12/2013(eurozone_crisis)', '01/2014-12/2015', '01/2016-12/2019(Brexit)',\n",
    "           '01/2020-12/2022(Covid-19)', 'Overall']\n",
    "\n",
    "    period = [range(1, 23), range(23, 59), range(59, 143), range(143, 203), range(203, 239), range(239, 287),\n",
    "              range(287, 311), range(311, 359), range(359, 395), range(1, 395)]"
   ],
   "metadata": {
    "collapsed": false,
    "ExecuteTime": {
     "end_time": "2024-06-16T15:03:55.422670900Z",
     "start_time": "2024-06-16T15:03:55.418353900Z"
    }
   },
   "id": "117c70cb5e07e646",
   "execution_count": 2
  },
  {
   "cell_type": "code",
   "outputs": [],
   "source": [
    "metric = M.metrics(result, result_modified, period, total=True)\n",
    "\n",
    "pf = metric.cal_profit_factor(col)\n",
    "pf['metric'] = 'Profit Factor'\n",
    "\n",
    "sh = metric.cal_sharpe_ratio(col)\n",
    "sh['metric'] = 'Sharpe Ratio'\n",
    "\n",
    "so = metric.cal_sortino_ratio(col)\n",
    "so['metric'] = 'Sortino Ratio'\n",
    "\n",
    "mdd = metric.cal_MDD(col)\n",
    "mdd['metric'] = 'Maximum Drawdown'\n",
    "\n",
    "cm = metric.cal_calmar_ratio(col)\n",
    "cm['metric'] = 'Calmar Ratio'\n",
    "\n",
    "ar = metric.cal_annual_return(col)\n",
    "ar['metric'] = 'Annual Return'\n",
    "\n",
    "dd = metric.cal_down_std(col)\n",
    "dd['metric'] = 'Downside Deviation'\n",
    "\n",
    "total = pd.concat([pf, sh, so, mdd, cm, ar, dd], axis=0)\n",
    "total.to_csv('../Files/Total_Result/period_analysis.csv', index=True)"
   ],
   "metadata": {
    "collapsed": false,
    "ExecuteTime": {
     "end_time": "2024-06-16T15:03:55.716838300Z",
     "start_time": "2024-06-16T15:03:55.422670900Z"
    }
   },
   "id": "70ec183d2af2f97d",
   "execution_count": 3
  }
 ],
 "metadata": {
  "kernelspec": {
   "display_name": "Python 3",
   "language": "python",
   "name": "python3"
  },
  "language_info": {
   "codemirror_mode": {
    "name": "ipython",
    "version": 2
   },
   "file_extension": ".py",
   "mimetype": "text/x-python",
   "name": "python",
   "nbconvert_exporter": "python",
   "pygments_lexer": "ipython2",
   "version": "2.7.6"
  }
 },
 "nbformat": 4,
 "nbformat_minor": 5
}
