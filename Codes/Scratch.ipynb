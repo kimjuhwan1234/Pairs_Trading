{
 "cells": [
  {
   "cell_type": "code",
   "execution_count": 130,
   "id": "initial_id",
   "metadata": {
    "collapsed": true,
    "ExecuteTime": {
     "end_time": "2024-06-21T13:57:27.924725700Z",
     "start_time": "2024-06-21T13:57:27.920677700Z"
    }
   },
   "outputs": [],
   "source": [
    "import pandas as pd"
   ]
  },
  {
   "cell_type": "code",
   "outputs": [],
   "source": [
    "sp = pd.read_csv('../Database/ETC/sp500.csv', index_col=0)"
   ],
   "metadata": {
    "collapsed": false,
    "ExecuteTime": {
     "end_time": "2024-06-21T13:57:27.956748900Z",
     "start_time": "2024-06-21T13:57:27.926726500Z"
    }
   },
   "id": "735e781364432583",
   "execution_count": 131
  },
  {
   "cell_type": "code",
   "outputs": [],
   "source": [
    "index = sp['Adj Close'].pct_change().dropna()"
   ],
   "metadata": {
    "collapsed": false,
    "ExecuteTime": {
     "end_time": "2024-06-21T13:57:27.957749600Z",
     "start_time": "2024-06-21T13:57:27.945236100Z"
    }
   },
   "id": "51d998846c81c84d",
   "execution_count": 132
  },
  {
   "cell_type": "code",
   "outputs": [],
   "source": [
    "\n",
    "col = ['06/1999-12/1999', '01/2000-12/2002(9/11)', '01/2003-12/2006', '01/2007-12/2009(GFC)',\n",
    "       '01/2010-12/2019', '01/2020-12/2022(Covid-19)', 'Overall']\n",
    "\n",
    "period = [range(1, 100), range(100, 285), range(285, 333), range(333, 369), range(369, 380), range(380, 391),\n",
    "          range(1, 391)]"
   ],
   "metadata": {
    "collapsed": false,
    "ExecuteTime": {
     "end_time": "2024-06-21T13:57:27.965909200Z",
     "start_time": "2024-06-21T13:57:27.956748900Z"
    }
   },
   "id": "9d2cfd81013b925f",
   "execution_count": 133
  },
  {
   "cell_type": "code",
   "outputs": [],
   "source": [
    "# index.T.to_csv('../Database/sp500_return.csv')"
   ],
   "metadata": {
    "collapsed": false,
    "ExecuteTime": {
     "end_time": "2024-06-21T13:57:27.980085900Z",
     "start_time": "2024-06-21T13:57:27.968910Z"
    }
   },
   "id": "9aeb5826a683e786",
   "execution_count": 134
  },
  {
   "cell_type": "code",
   "outputs": [],
   "source": [
    "import os\n",
    "import numpy as np\n",
    "import pandas as pd\n",
    "from PCA_and_ETC import read_and_preprocess_data, generate_PCA_Data\n",
    "\n",
    "cl_list = ['60_characteristics_us', '70_characteristics_us', '80_characteristics_us', '90_characteristics_us']\n",
    "# cl_list = [f'{i}_characteristics_us' for i in range(10, 80, 10)]\n",
    "for a in cl_list:\n",
    "    input_dir = f'../Database/Clustering_Result/Contrastive_Learning/{a}'\n",
    "    input_dir2 = f'../Database/Clustering_Result/Contrastive_Learning/Prob/{a}'\n",
    "    output_dir = f'../Database/Clustering_Result/Contrastive_Learning/CL_Pre/{a}'\n",
    "\n",
    "    files = sorted(filename for filename in os.listdir(input_dir))\n",
    "\n",
    "    for file in files:\n",
    "        data = read_and_preprocess_data(input_dir, file)\n",
    "        prob = read_and_preprocess_data(input_dir2, file)\n",
    "        prob.index = prob['firms']\n",
    "        prob = prob.drop(columns='firms')\n",
    "        prob_filtered = prob[(prob.max(axis=1) <= prob.max(axis=1).quantile(0.80))]\n",
    "        data.loc[prob_filtered.index, 'clusters'] = 0\n",
    "        data.to_csv(os.path.join(output_dir, file))"
   ],
   "metadata": {
    "collapsed": false,
    "ExecuteTime": {
     "end_time": "2024-06-21T13:58:29.239076Z",
     "start_time": "2024-06-21T13:57:27.983590500Z"
    }
   },
   "id": "fe894ae54083ca12",
   "execution_count": 135
  },
  {
   "cell_type": "code",
   "outputs": [
    {
     "name": "stdout",
     "output_type": "stream",
     "text": [
      "0.1\n",
      "0    646.001832\n",
      "dtype: float64\n"
     ]
    },
    {
     "name": "stderr",
     "output_type": "stream",
     "text": [
      "\n",
      "KeyboardInterrupt\n",
      "\n"
     ]
    }
   ],
   "source": [
    "from PCA_and_ETC import read_and_preprocess_data, generate_PCA_Data\n",
    "import numpy as np\n",
    "import pandas as pd\n",
    "\n",
    "input_dir = '../Database/Clustering_Result/DBSCAN'\n",
    "input_dir2 = '../Database/characteristics_US'\n",
    "subdirectories = [d for d in os.listdir(input_dir)]\n",
    "\n",
    "for subdir in subdirectories:\n",
    "    base_directory = f'{input_dir}/{subdir}'\n",
    "    files = sorted(filename for filename in os.listdir(base_directory) if filename.endswith('.csv'))\n",
    "\n",
    "    bic_dict = {}\n",
    "\n",
    "    for file in files:\n",
    "        df = read_and_preprocess_data(base_directory, file)\n",
    "        df2 = read_and_preprocess_data(input_dir2, file)\n",
    "        df2 = generate_PCA_Data(df2)\n",
    "\n",
    "        n = df.shape[0]\n",
    "        d = df2.shape[1]\n",
    "\n",
    "        clusters = {}\n",
    "        total_length = 0\n",
    "        for j in range(1 + max(set(df['clusters']))):\n",
    "            # if j == 0:\n",
    "            #     continue\n",
    "            cluster_data = df2.loc[df[df['clusters'] == j].index]\n",
    "\n",
    "            # 각 클러스터에 대하여 정규화된 특성들의 var의 평균을 구함\n",
    "            clusters[j] = cluster_data.var().mean()\n",
    "\n",
    "        # total variance는 클러스터 전체의 var의 평균을 사용.\n",
    "        total_variance = pd.DataFrame(clusters.values()).mean()\n",
    "\n",
    "        # 최대 가능도\n",
    "        L = np.exp(-0.5 * total_variance)\n",
    "        # 모델의 자유도\n",
    "        k = len(clusters)-1\n",
    "        v = d - np.log(n/k)\n",
    "        # BIC 계산\n",
    "        bic = -2 * np.log(L) + v * np.log(n)\n",
    "        bic_dict[file] = bic\n",
    "\n",
    "    print(subdir)\n",
    "    # 전체기간에 대하여 bic score의 평균을 구함\n",
    "    a = pd.DataFrame(bic_dict.values()).mean()\n",
    "    print(a)"
   ],
   "metadata": {
    "collapsed": false,
    "ExecuteTime": {
     "end_time": "2024-06-21T14:56:22.192627300Z",
     "start_time": "2024-06-21T14:55:34.827818200Z"
    }
   },
   "id": "c8fe72df78b95063",
   "execution_count": 164
  }
 ],
 "metadata": {
  "kernelspec": {
   "display_name": "Python 3",
   "language": "python",
   "name": "python3"
  },
  "language_info": {
   "codemirror_mode": {
    "name": "ipython",
    "version": 2
   },
   "file_extension": ".py",
   "mimetype": "text/x-python",
   "name": "python",
   "nbconvert_exporter": "python",
   "pygments_lexer": "ipython2",
   "version": "2.7.6"
  }
 },
 "nbformat": 4,
 "nbformat_minor": 5
}
