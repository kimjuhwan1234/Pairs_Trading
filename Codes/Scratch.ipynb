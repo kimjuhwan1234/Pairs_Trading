{
 "cells": [
  {
   "cell_type": "code",
   "execution_count": 9,
   "id": "initial_id",
   "metadata": {
    "collapsed": true,
    "ExecuteTime": {
     "end_time": "2024-06-17T03:31:27.490670800Z",
     "start_time": "2024-06-17T03:31:27.485802700Z"
    }
   },
   "outputs": [],
   "source": [
    "import pandas as pd"
   ]
  },
  {
   "cell_type": "code",
   "outputs": [],
   "source": [
    "sp = pd.read_csv('../Database/ETC/sp500.csv', index_col=0)"
   ],
   "metadata": {
    "collapsed": false,
    "ExecuteTime": {
     "end_time": "2024-06-17T03:31:27.501911900Z",
     "start_time": "2024-06-17T03:31:27.492671300Z"
    }
   },
   "id": "735e781364432583",
   "execution_count": 10
  },
  {
   "cell_type": "code",
   "outputs": [],
   "source": [
    "index = sp['Adj Close'].pct_change().dropna()"
   ],
   "metadata": {
    "collapsed": false,
    "ExecuteTime": {
     "end_time": "2024-06-17T03:31:27.505314500Z",
     "start_time": "2024-06-17T03:31:27.500911600Z"
    }
   },
   "id": "51d998846c81c84d",
   "execution_count": 11
  },
  {
   "cell_type": "code",
   "outputs": [],
   "source": [
    "\n",
    "col = ['06/1999-12/1999', '01/2000-12/2002(9/11)', '01/2003-12/2006', '01/2007-12/2009(GFC)',\n",
    "       '01/2010-12/2019', '01/2020-12/2022(Covid-19)', 'Overall']\n",
    "\n",
    "period = [range(1, 100), range(100, 285), range(285, 333), range(333, 369), range(369, 380), range(380, 391),\n",
    "          range(1, 391)]"
   ],
   "metadata": {
    "collapsed": false,
    "ExecuteTime": {
     "end_time": "2024-06-17T03:31:27.523338700Z",
     "start_time": "2024-06-17T03:31:27.507315500Z"
    }
   },
   "id": "9d2cfd81013b925f",
   "execution_count": 12
  },
  {
   "cell_type": "code",
   "outputs": [],
   "source": [
    "# index.T.to_csv('../Database/sp500_return.csv')"
   ],
   "metadata": {
    "collapsed": false,
    "ExecuteTime": {
     "end_time": "2024-06-17T03:31:27.523338700Z",
     "start_time": "2024-06-17T03:31:27.513298800Z"
    }
   },
   "id": "9aeb5826a683e786",
   "execution_count": 13
  },
  {
   "cell_type": "code",
   "outputs": [],
   "source": [
    "import os\n",
    "import numpy as np\n",
    "import pandas as pd\n",
    "from PCA_and_ETC import read_and_preprocess_data\n",
    "\n",
    "# cl_list = ['60_characteristics_us', '70_characteristics_us', '80_characteristics_us', '90_characteristics_us']\n",
    "cl_list = [f'{i}_characteristics_us' for i in range(10, 80, 10)]\n",
    "for a in cl_list:\n",
    "    input_dir = f'../Database/Clustering_Result/Contrastive_Learning2/{a}'\n",
    "    input_dir2 = f'../Database/Clustering_Result/Contrastive_Learning2/Prob/{a}'\n",
    "    output_dir = f'../Database/Clustering_Result/Contrastive_Learning2/CL_Pre/{a}'\n",
    "\n",
    "    files = sorted(filename for filename in os.listdir(input_dir))\n",
    "\n",
    "    for file in files:\n",
    "        data = read_and_preprocess_data(input_dir, file)\n",
    "        prob = read_and_preprocess_data(input_dir2, file)\n",
    "        prob.index = prob['firms']\n",
    "        prob = prob.drop(columns='firms')\n",
    "        prob_filtered = prob[(prob.max(axis=1) <= prob.max(axis=1).quantile(0.80))]\n",
    "        data.loc[prob_filtered.index, 'clusters'] = 0\n",
    "        data.to_csv(os.path.join(output_dir, file))"
   ],
   "metadata": {
    "collapsed": false,
    "ExecuteTime": {
     "end_time": "2024-06-17T03:32:39.361141200Z",
     "start_time": "2024-06-17T03:31:27.516337400Z"
    }
   },
   "id": "fe894ae54083ca12",
   "execution_count": 14
  }
 ],
 "metadata": {
  "kernelspec": {
   "display_name": "Python 3",
   "language": "python",
   "name": "python3"
  },
  "language_info": {
   "codemirror_mode": {
    "name": "ipython",
    "version": 2
   },
   "file_extension": ".py",
   "mimetype": "text/x-python",
   "name": "python",
   "nbconvert_exporter": "python",
   "pygments_lexer": "ipython2",
   "version": "2.7.6"
  }
 },
 "nbformat": 4,
 "nbformat_minor": 5
}
