{
 "cells": [
  {
   "cell_type": "code",
   "outputs": [],
   "source": [
    "import os\n",
    "import numpy as np\n",
    "import pandas as pd\n",
    "from PCA_and_ETC import read_and_preprocess_data"
   ],
   "metadata": {
    "collapsed": false,
    "ExecuteTime": {
     "end_time": "2024-07-17T05:41:51.098136200Z",
     "start_time": "2024-07-17T05:41:43.997818700Z"
    }
   },
   "id": "f12dca4d9032c154",
   "execution_count": 1
  },
  {
   "cell_type": "code",
   "outputs": [],
   "source": [
    "# cl_list = ['60_characteristics_us', '70_characteristics_us', '80_characteristics_us', '90_characteristics_us']\n",
    "# cl_list = [f'{i}_characteristics_us' for i in range(10, 80, 10)]\n",
    "# for j in [0.1, 0.2, 0.3, 0.4, 0.5, 0.6, 0.7, 0.8, 0.9]:\n",
    "#     \n",
    "#     for a in cl_list:\n",
    "#         input_dir = f'../Database/Clustering_Result/Contrastive_Learning2/{a}'\n",
    "#         input_dir2 = f'../Database/Clustering_Result/Contrastive_Learning2/Prob/{a}'\n",
    "#         output_dir = f'../Database/Clustering_Result/Contrastive_Learning2/CL_Pre_{j}/{a}'\n",
    "# \n",
    "#         files = sorted(filename for filename in os.listdir(input_dir))\n",
    "# \n",
    "#         for file in files:\n",
    "#             data = read_and_preprocess_data(input_dir, file)\n",
    "#             prob = read_and_preprocess_data(input_dir2, file)\n",
    "#             prob.index = prob['firms']\n",
    "#             prob = prob.drop(columns='firms')\n",
    "#             prob_filtered = prob[(prob.max(axis=1) <= prob.max(axis=1).quantile(j))]\n",
    "#             data.loc[prob_filtered.index, 'clusters'] = 0\n",
    "#             data.to_csv(os.path.join(output_dir, file))"
   ],
   "metadata": {
    "collapsed": false,
    "ExecuteTime": {
     "end_time": "2024-07-17T05:41:51.099640700Z",
     "start_time": "2024-07-17T05:41:51.095626100Z"
    }
   },
   "id": "fe894ae54083ca12",
   "execution_count": 2
  },
  {
   "cell_type": "code",
   "outputs": [
    {
     "name": "stderr",
     "output_type": "stream",
     "text": [
      "[*********************100%%**********************]  1 of 1 completed\n"
     ]
    }
   ],
   "source": [
    "import yfinance as yf\n",
    "\n",
    "sp_yf = yf.download('^GSPC', start='1979-01-01')"
   ],
   "metadata": {
    "collapsed": false,
    "ExecuteTime": {
     "end_time": "2024-07-17T05:41:52.952798700Z",
     "start_time": "2024-07-17T05:41:51.098136200Z"
    }
   },
   "id": "851b13ca09523fec",
   "execution_count": 3
  },
  {
   "cell_type": "code",
   "outputs": [],
   "source": [
    "sp_yf_r = sp_yf['Adj Close'].resample('M').last()\n",
    "sp_return_yf = sp_yf_r.pct_change().dropna()\n",
    "sp_log_return_yf = sp_return_yf.apply(lambda x: np.log(x + 1)).dropna()"
   ],
   "metadata": {
    "collapsed": false,
    "ExecuteTime": {
     "end_time": "2024-07-17T05:41:52.977709400Z",
     "start_time": "2024-07-17T05:41:52.953798900Z"
    }
   },
   "id": "ec11d063619f78dd",
   "execution_count": 4
  },
  {
   "cell_type": "code",
   "outputs": [],
   "source": [
    "sp500 = pd.read_csv('../Database/sp500.csv')\n",
    "sp500['Date']=sp500['datadate']\n",
    "sp500.index = pd.to_datetime(sp500['Date'])"
   ],
   "metadata": {
    "collapsed": false,
    "ExecuteTime": {
     "end_time": "2024-07-17T05:41:53.012395Z",
     "start_time": "2024-07-17T05:41:52.974709500Z"
    }
   },
   "id": "401d75959ea1c92c",
   "execution_count": 5
  },
  {
   "cell_type": "code",
   "outputs": [],
   "source": [
    "sp_adj = (sp500['prccddiv']).dropna()\n",
    "sp_month = sp_adj.resample('M').first()"
   ],
   "metadata": {
    "collapsed": false,
    "ExecuteTime": {
     "end_time": "2024-07-17T05:41:53.028371900Z",
     "start_time": "2024-07-17T05:41:53.005889200Z"
    }
   },
   "id": "fcb76c1ee0d522f8",
   "execution_count": 6
  },
  {
   "cell_type": "code",
   "outputs": [],
   "source": [
    "sp500_m = pd.read_csv('../Database/sp500_month.csv')\n",
    "sp500_m.index = pd.to_datetime(sp500_m['datadate'])\n",
    "sp500_m = sp500_m.sort_index()"
   ],
   "metadata": {
    "collapsed": false,
    "ExecuteTime": {
     "end_time": "2024-07-17T05:41:53.028371900Z",
     "start_time": "2024-07-17T05:41:53.018759500Z"
    }
   },
   "id": "ac9c53ad537c80f2",
   "execution_count": 7
  },
  {
   "cell_type": "code",
   "outputs": [],
   "source": [
    "sp_adj_m = sp500_m['prccm'] + sp500_m['dvpsxm']"
   ],
   "metadata": {
    "collapsed": false,
    "ExecuteTime": {
     "end_time": "2024-07-17T05:41:53.052926700Z",
     "start_time": "2024-07-17T05:41:53.028371900Z"
    }
   },
   "id": "cf87c68f9ac4ffe8",
   "execution_count": 8
  },
  {
   "cell_type": "code",
   "outputs": [],
   "source": [
    "sp_return_wrds = sp_month.pct_change().dropna()\n",
    "sp_log_return_wrds = sp_return_wrds.apply(lambda x: np.log(x + 1)).dropna()"
   ],
   "metadata": {
    "collapsed": false,
    "ExecuteTime": {
     "end_time": "2024-07-17T05:41:53.052926700Z",
     "start_time": "2024-07-17T05:41:53.034458100Z"
    }
   },
   "id": "8f374c9d42936bbf",
   "execution_count": 9
  },
  {
   "cell_type": "code",
   "outputs": [],
   "source": [
    "sp_return_wrds_m = sp_adj_m.pct_change().dropna()\n",
    "sp_log_return_wrds_m = sp_return_wrds_m.apply(lambda x: np.log(x + 1)).dropna()"
   ],
   "metadata": {
    "collapsed": false,
    "ExecuteTime": {
     "end_time": "2024-07-17T05:41:53.053927200Z",
     "start_time": "2024-07-17T05:41:53.040857900Z"
    }
   },
   "id": "3ab4928d9c9bc43c",
   "execution_count": 10
  },
  {
   "cell_type": "code",
   "outputs": [],
   "source": [
    "sp_wrds=pd.DataFrame(sp_log_return_wrds.loc['1990-02-01':'2022-09-01'])"
   ],
   "metadata": {
    "collapsed": false,
    "ExecuteTime": {
     "end_time": "2024-07-17T05:41:53.054927500Z",
     "start_time": "2024-07-17T05:41:53.048155400Z"
    }
   },
   "id": "778b7ae6231cb605",
   "execution_count": 11
  },
  {
   "cell_type": "code",
   "outputs": [],
   "source": [
    "sp_wrds.to_csv('../Database/ETC/sp500_return_div.csv')"
   ],
   "metadata": {
    "collapsed": false,
    "ExecuteTime": {
     "end_time": "2024-07-17T05:41:53.100139700Z",
     "start_time": "2024-07-17T05:41:53.054927500Z"
    }
   },
   "id": "c45d19e59bc21486",
   "execution_count": 12
  },
  {
   "cell_type": "code",
   "outputs": [
    {
     "data": {
      "text/plain": "0.0071549977750562975"
     },
     "execution_count": 13,
     "metadata": {},
     "output_type": "execute_result"
    }
   ],
   "source": [
    "sp_log_return_yf.loc['1980-01-01':'2020-12-01'].mean()"
   ],
   "metadata": {
    "collapsed": false,
    "ExecuteTime": {
     "end_time": "2024-07-17T05:41:53.101658200Z",
     "start_time": "2024-07-17T05:41:53.063179700Z"
    }
   },
   "id": "dd712481c6d5cd",
   "execution_count": 13
  },
  {
   "cell_type": "code",
   "outputs": [
    {
     "data": {
      "text/plain": "0.008330125312040077"
     },
     "execution_count": 14,
     "metadata": {},
     "output_type": "execute_result"
    }
   ],
   "source": [
    "sp_log_return_wrds.loc[:'2020-12-01'].mean()"
   ],
   "metadata": {
    "collapsed": false,
    "ExecuteTime": {
     "end_time": "2024-07-17T05:41:53.101658200Z",
     "start_time": "2024-07-17T05:41:53.072772600Z"
    }
   },
   "id": "8fe6206ec8bbe291",
   "execution_count": 14
  },
  {
   "cell_type": "code",
   "outputs": [
    {
     "data": {
      "text/plain": "0.007108960519963963"
     },
     "execution_count": 15,
     "metadata": {},
     "output_type": "execute_result"
    }
   ],
   "source": [
    "sp_log_return_wrds_m.loc[:'2020-12-31'].mean()"
   ],
   "metadata": {
    "collapsed": false,
    "ExecuteTime": {
     "end_time": "2024-07-17T05:41:53.102660500Z",
     "start_time": "2024-07-17T05:41:53.078668300Z"
    }
   },
   "id": "b91fa2a1b5bac0ad",
   "execution_count": 15
  },
  {
   "cell_type": "code",
   "outputs": [
    {
     "data": {
      "text/plain": "-0.08469828920622158"
     },
     "execution_count": 16,
     "metadata": {},
     "output_type": "execute_result"
    }
   ],
   "source": [
    "np.exp(sp_log_return_yf.loc['2007-01-01':'2009-12-01'].mean() * 12) - 1"
   ],
   "metadata": {
    "collapsed": false,
    "ExecuteTime": {
     "end_time": "2024-07-17T05:41:53.103705300Z",
     "start_time": "2024-07-17T05:41:53.085357800Z"
    }
   },
   "id": "17202cff57a4aef9",
   "execution_count": 16
  },
  {
   "cell_type": "code",
   "outputs": [
    {
     "data": {
      "text/plain": "-0.05322128504140622"
     },
     "execution_count": 30,
     "metadata": {},
     "output_type": "execute_result"
    }
   ],
   "source": [
    "np.exp(sp_log_return_wrds.loc['2007-01-01':'2009-12-31'].mean() * 12) - 1"
   ],
   "metadata": {
    "collapsed": false,
    "ExecuteTime": {
     "end_time": "2024-07-17T05:43:57.544986100Z",
     "start_time": "2024-07-17T05:43:57.533451500Z"
    }
   },
   "id": "eb5c06b2afff433e",
   "execution_count": 30
  },
  {
   "cell_type": "code",
   "outputs": [
    {
     "data": {
      "text/plain": "-0.07700706612314367"
     },
     "execution_count": 18,
     "metadata": {},
     "output_type": "execute_result"
    }
   ],
   "source": [
    "np.exp(sp_log_return_wrds_m.loc['2007-01-01':'2009-12-31'].mean() * 12) - 1"
   ],
   "metadata": {
    "collapsed": false,
    "ExecuteTime": {
     "end_time": "2024-07-17T05:41:53.202385200Z",
     "start_time": "2024-07-17T05:41:53.101658200Z"
    }
   },
   "id": "8704892d66f5f403",
   "execution_count": 18
  },
  {
   "cell_type": "code",
   "outputs": [
    {
     "data": {
      "text/plain": "0.29009838948757616"
     },
     "execution_count": 90,
     "metadata": {},
     "output_type": "execute_result"
    }
   ],
   "source": [
    "np.exp(np.std(sp_log_return_wrds.loc['2007-01-01':'2009-12-01']) * np.sqrt(12)) - 1"
   ],
   "metadata": {
    "collapsed": false,
    "ExecuteTime": {
     "end_time": "2024-07-16T12:32:44.804415Z",
     "start_time": "2024-07-16T12:32:44.797948900Z"
    }
   },
   "id": "56775b3e2eaaf5e1",
   "execution_count": 90
  },
  {
   "cell_type": "code",
   "outputs": [
    {
     "data": {
      "text/plain": "-0.183775541843467"
     },
     "execution_count": 93,
     "metadata": {},
     "output_type": "execute_result"
    }
   ],
   "source": [
    "(np.exp(sp_log_return_wrds.loc['2007-01-01':'2009-12-31'].mean() * 12) - 1) / (\n",
    "            np.exp(np.std(sp_log_return_wrds.loc['2007-01-01':'2009-12-31']) * np.sqrt(12)) - 1)"
   ],
   "metadata": {
    "collapsed": false,
    "ExecuteTime": {
     "end_time": "2024-07-16T12:36:26.036856Z",
     "start_time": "2024-07-16T12:36:26.029351500Z"
    }
   },
   "id": "8b4bda4bacac1ae8",
   "execution_count": 93
  }
 ],
 "metadata": {
  "kernelspec": {
   "display_name": "Python 3",
   "language": "python",
   "name": "python3"
  },
  "language_info": {
   "codemirror_mode": {
    "name": "ipython",
    "version": 2
   },
   "file_extension": ".py",
   "mimetype": "text/x-python",
   "name": "python",
   "nbconvert_exporter": "python",
   "pygments_lexer": "ipython2",
   "version": "2.7.6"
  }
 },
 "nbformat": 4,
 "nbformat_minor": 5
}
