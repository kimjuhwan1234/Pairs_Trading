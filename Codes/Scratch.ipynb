{
 "cells": [
  {
   "cell_type": "code",
   "outputs": [],
   "source": [
    "import os\n",
    "import numpy as np\n",
    "import pandas as pd\n",
    "from PCA_and_ETC import read_and_preprocess_data"
   ],
   "metadata": {
    "collapsed": false,
    "ExecuteTime": {
     "end_time": "2024-07-16T12:02:43.212238800Z",
     "start_time": "2024-07-16T12:02:36.961398900Z"
    }
   },
   "id": "f12dca4d9032c154",
   "execution_count": 1
  },
  {
   "cell_type": "code",
   "outputs": [],
   "source": [
    "# cl_list = ['60_characteristics_us', '70_characteristics_us', '80_characteristics_us', '90_characteristics_us']\n",
    "# cl_list = [f'{i}_characteristics_us' for i in range(10, 80, 10)]\n",
    "# for j in [0.1, 0.2, 0.3, 0.4, 0.5, 0.6, 0.7, 0.8, 0.9]:\n",
    "#     \n",
    "#     for a in cl_list:\n",
    "#         input_dir = f'../Database/Clustering_Result/Contrastive_Learning2/{a}'\n",
    "#         input_dir2 = f'../Database/Clustering_Result/Contrastive_Learning2/Prob/{a}'\n",
    "#         output_dir = f'../Database/Clustering_Result/Contrastive_Learning2/CL_Pre_{j}/{a}'\n",
    "# \n",
    "#         files = sorted(filename for filename in os.listdir(input_dir))\n",
    "# \n",
    "#         for file in files:\n",
    "#             data = read_and_preprocess_data(input_dir, file)\n",
    "#             prob = read_and_preprocess_data(input_dir2, file)\n",
    "#             prob.index = prob['firms']\n",
    "#             prob = prob.drop(columns='firms')\n",
    "#             prob_filtered = prob[(prob.max(axis=1) <= prob.max(axis=1).quantile(j))]\n",
    "#             data.loc[prob_filtered.index, 'clusters'] = 0\n",
    "#             data.to_csv(os.path.join(output_dir, file))"
   ],
   "metadata": {
    "collapsed": false,
    "ExecuteTime": {
     "end_time": "2024-07-16T12:02:43.219819800Z",
     "start_time": "2024-07-16T12:02:43.215376700Z"
    }
   },
   "id": "fe894ae54083ca12",
   "execution_count": 2
  },
  {
   "cell_type": "code",
   "outputs": [
    {
     "name": "stderr",
     "output_type": "stream",
     "text": [
      "[*********************100%%**********************]  1 of 1 completed\n"
     ]
    }
   ],
   "source": [
    "import yfinance as yf\n",
    "\n",
    "sp_yf = yf.download('^GSPC', start='1979-01-01')"
   ],
   "metadata": {
    "collapsed": false,
    "ExecuteTime": {
     "end_time": "2024-07-16T12:02:45.704517700Z",
     "start_time": "2024-07-16T12:02:43.885634600Z"
    }
   },
   "id": "851b13ca09523fec",
   "execution_count": 3
  },
  {
   "cell_type": "code",
   "outputs": [],
   "source": [
    "sp_yf_r = sp_yf['Adj Close'].resample('M').last()\n",
    "sp_return_yf = sp_yf_r.pct_change().dropna()\n",
    "sp_log_return_yf = sp_return_yf.apply(lambda x: np.log(x + 1)).dropna()"
   ],
   "metadata": {
    "collapsed": false,
    "ExecuteTime": {
     "end_time": "2024-07-16T12:16:16.517194600Z",
     "start_time": "2024-07-16T12:16:16.508016800Z"
    }
   },
   "id": "ec11d063619f78dd",
   "execution_count": 65
  },
  {
   "cell_type": "code",
   "outputs": [],
   "source": [
    "sp500 = pd.read_csv('../Database/sp500.csv')\n",
    "sp500['Date']=sp500['datadate']\n",
    "sp500.index = pd.to_datetime(sp500['Date'])"
   ],
   "metadata": {
    "collapsed": false,
    "ExecuteTime": {
     "end_time": "2024-07-16T12:16:16.722121Z",
     "start_time": "2024-07-16T12:16:16.697632500Z"
    }
   },
   "id": "401d75959ea1c92c",
   "execution_count": 66
  },
  {
   "cell_type": "code",
   "outputs": [],
   "source": [
    "sp_adj = (sp500['prccddiv']).dropna()\n",
    "sp_month = sp_adj.resample('M').first()"
   ],
   "metadata": {
    "collapsed": false,
    "ExecuteTime": {
     "end_time": "2024-07-16T12:16:17.017597600Z",
     "start_time": "2024-07-16T12:16:17.002451500Z"
    }
   },
   "id": "fcb76c1ee0d522f8",
   "execution_count": 67
  },
  {
   "cell_type": "code",
   "outputs": [],
   "source": [
    "sp500_m = pd.read_csv('../Database/sp500_month.csv')\n",
    "sp500_m.index = pd.to_datetime(sp500_m['datadate'])\n",
    "sp500_m = sp500_m.sort_index()"
   ],
   "metadata": {
    "collapsed": false,
    "ExecuteTime": {
     "end_time": "2024-07-16T12:16:17.263980200Z",
     "start_time": "2024-07-16T12:16:17.257417Z"
    }
   },
   "id": "ac9c53ad537c80f2",
   "execution_count": 68
  },
  {
   "cell_type": "code",
   "outputs": [],
   "source": [
    "sp_adj_m = sp500_m['prccm'] + sp500_m['dvpsxm']"
   ],
   "metadata": {
    "collapsed": false,
    "ExecuteTime": {
     "end_time": "2024-07-16T12:16:17.479668400Z",
     "start_time": "2024-07-16T12:16:17.473024500Z"
    }
   },
   "id": "cf87c68f9ac4ffe8",
   "execution_count": 69
  },
  {
   "cell_type": "code",
   "outputs": [],
   "source": [
    "sp_return_wrds = sp_month.pct_change().dropna()\n",
    "sp_log_return_wrds = sp_return_wrds.apply(lambda x: np.log(x + 1)).dropna()"
   ],
   "metadata": {
    "collapsed": false,
    "ExecuteTime": {
     "end_time": "2024-07-16T12:16:17.695660400Z",
     "start_time": "2024-07-16T12:16:17.688673600Z"
    }
   },
   "id": "8f374c9d42936bbf",
   "execution_count": 70
  },
  {
   "cell_type": "code",
   "outputs": [],
   "source": [
    "sp_return_wrds_m = sp_adj_m.pct_change().dropna()\n",
    "sp_log_return_wrds_m = sp_return_wrds_m.apply(lambda x: np.log(x + 1)).dropna()"
   ],
   "metadata": {
    "collapsed": false,
    "ExecuteTime": {
     "end_time": "2024-07-16T12:16:17.891789400Z",
     "start_time": "2024-07-16T12:16:17.884921800Z"
    }
   },
   "id": "3ab4928d9c9bc43c",
   "execution_count": 71
  },
  {
   "cell_type": "code",
   "outputs": [],
   "source": [
    "sp_wrds=pd.DataFrame(sp_log_return_wrds.loc['1990-02-01':'2022-09-01'])"
   ],
   "metadata": {
    "collapsed": false,
    "ExecuteTime": {
     "end_time": "2024-07-16T12:16:18.217367800Z",
     "start_time": "2024-07-16T12:16:18.212857800Z"
    }
   },
   "id": "778b7ae6231cb605",
   "execution_count": 72
  },
  {
   "cell_type": "code",
   "outputs": [
    {
     "data": {
      "text/plain": "            prccddiv\nDate                \n1990-02-28 -0.087871\n1990-03-31  0.016209\n1990-04-30  0.020016\n1990-05-31 -0.017166\n1990-06-30  0.093818\n...              ...\n2022-04-30  0.055429\n2022-05-31 -0.088980\n2022-06-30 -0.011242\n2022-07-31 -0.068230\n2022-08-31  0.074867\n\n[391 rows x 1 columns]",
      "text/html": "<div>\n<style scoped>\n    .dataframe tbody tr th:only-of-type {\n        vertical-align: middle;\n    }\n\n    .dataframe tbody tr th {\n        vertical-align: top;\n    }\n\n    .dataframe thead th {\n        text-align: right;\n    }\n</style>\n<table border=\"1\" class=\"dataframe\">\n  <thead>\n    <tr style=\"text-align: right;\">\n      <th></th>\n      <th>prccddiv</th>\n    </tr>\n    <tr>\n      <th>Date</th>\n      <th></th>\n    </tr>\n  </thead>\n  <tbody>\n    <tr>\n      <th>1990-02-28</th>\n      <td>-0.087871</td>\n    </tr>\n    <tr>\n      <th>1990-03-31</th>\n      <td>0.016209</td>\n    </tr>\n    <tr>\n      <th>1990-04-30</th>\n      <td>0.020016</td>\n    </tr>\n    <tr>\n      <th>1990-05-31</th>\n      <td>-0.017166</td>\n    </tr>\n    <tr>\n      <th>1990-06-30</th>\n      <td>0.093818</td>\n    </tr>\n    <tr>\n      <th>...</th>\n      <td>...</td>\n    </tr>\n    <tr>\n      <th>2022-04-30</th>\n      <td>0.055429</td>\n    </tr>\n    <tr>\n      <th>2022-05-31</th>\n      <td>-0.088980</td>\n    </tr>\n    <tr>\n      <th>2022-06-30</th>\n      <td>-0.011242</td>\n    </tr>\n    <tr>\n      <th>2022-07-31</th>\n      <td>-0.068230</td>\n    </tr>\n    <tr>\n      <th>2022-08-31</th>\n      <td>0.074867</td>\n    </tr>\n  </tbody>\n</table>\n<p>391 rows × 1 columns</p>\n</div>"
     },
     "execution_count": 74,
     "metadata": {},
     "output_type": "execute_result"
    }
   ],
   "source": [
    "sp_wrds"
   ],
   "metadata": {
    "collapsed": false,
    "ExecuteTime": {
     "end_time": "2024-07-16T12:16:26.965307600Z",
     "start_time": "2024-07-16T12:16:26.956690100Z"
    }
   },
   "id": "3a7d408ba1973bf7",
   "execution_count": 74
  },
  {
   "cell_type": "code",
   "outputs": [],
   "source": [
    "sp_wrds.to_csv('../Database/ETC/sp500_return_div.csv')"
   ],
   "metadata": {
    "collapsed": false,
    "ExecuteTime": {
     "end_time": "2024-07-16T12:16:41.921921200Z",
     "start_time": "2024-07-16T12:16:41.908947900Z"
    }
   },
   "id": "c45d19e59bc21486",
   "execution_count": 75
  },
  {
   "cell_type": "code",
   "outputs": [
    {
     "data": {
      "text/plain": "0.0071549977750562975"
     },
     "execution_count": 76,
     "metadata": {},
     "output_type": "execute_result"
    }
   ],
   "source": [
    "sp_log_return_yf.loc['1980-01-01':'2020-12-01'].mean()"
   ],
   "metadata": {
    "collapsed": false,
    "ExecuteTime": {
     "end_time": "2024-07-16T12:27:23.357471500Z",
     "start_time": "2024-07-16T12:27:23.355246200Z"
    }
   },
   "id": "dd712481c6d5cd",
   "execution_count": 76
  },
  {
   "cell_type": "code",
   "outputs": [
    {
     "data": {
      "text/plain": "0.008330125312040077"
     },
     "execution_count": 77,
     "metadata": {},
     "output_type": "execute_result"
    }
   ],
   "source": [
    "sp_log_return_wrds.loc[:'2020-12-01'].mean()"
   ],
   "metadata": {
    "collapsed": false,
    "ExecuteTime": {
     "end_time": "2024-07-16T12:27:23.598454400Z",
     "start_time": "2024-07-16T12:27:23.594130900Z"
    }
   },
   "id": "8fe6206ec8bbe291",
   "execution_count": 77
  },
  {
   "cell_type": "code",
   "outputs": [
    {
     "data": {
      "text/plain": "0.007108960519963963"
     },
     "execution_count": 78,
     "metadata": {},
     "output_type": "execute_result"
    }
   ],
   "source": [
    "sp_log_return_wrds_m.loc[:'2020-12-31'].mean()"
   ],
   "metadata": {
    "collapsed": false,
    "ExecuteTime": {
     "end_time": "2024-07-16T12:27:23.772292300Z",
     "start_time": "2024-07-16T12:27:23.765746Z"
    }
   },
   "id": "b91fa2a1b5bac0ad",
   "execution_count": 78
  },
  {
   "cell_type": "code",
   "outputs": [
    {
     "data": {
      "text/plain": "-0.08469828920622158"
     },
     "execution_count": 79,
     "metadata": {},
     "output_type": "execute_result"
    }
   ],
   "source": [
    "np.exp(sp_log_return_yf.loc['2007-01-01':'2009-12-01'].mean() * 12) - 1"
   ],
   "metadata": {
    "collapsed": false,
    "ExecuteTime": {
     "end_time": "2024-07-16T12:27:23.968102Z",
     "start_time": "2024-07-16T12:27:23.963631300Z"
    }
   },
   "id": "17202cff57a4aef9",
   "execution_count": 79
  },
  {
   "cell_type": "code",
   "outputs": [
    {
     "data": {
      "text/plain": "-0.05322128504140622"
     },
     "execution_count": 92,
     "metadata": {},
     "output_type": "execute_result"
    }
   ],
   "source": [
    "np.exp(sp_log_return_wrds.loc['2007-01-01':'2009-12-31'].mean() * 12) - 1"
   ],
   "metadata": {
    "collapsed": false,
    "ExecuteTime": {
     "end_time": "2024-07-16T12:33:29.194989500Z",
     "start_time": "2024-07-16T12:33:29.183634200Z"
    }
   },
   "id": "eb5c06b2afff433e",
   "execution_count": 92
  },
  {
   "cell_type": "code",
   "outputs": [
    {
     "data": {
      "text/plain": "-0.07700706612314367"
     },
     "execution_count": 91,
     "metadata": {},
     "output_type": "execute_result"
    }
   ],
   "source": [
    "np.exp(sp_log_return_wrds_m.loc['2007-01-01':'2009-12-31'].mean() * 12) - 1"
   ],
   "metadata": {
    "collapsed": false,
    "ExecuteTime": {
     "end_time": "2024-07-16T12:32:54.279124400Z",
     "start_time": "2024-07-16T12:32:54.267001500Z"
    }
   },
   "id": "8704892d66f5f403",
   "execution_count": 91
  },
  {
   "cell_type": "code",
   "outputs": [
    {
     "data": {
      "text/plain": "Date\n2007-01-31    0.015724\n2007-02-28    0.021599\n2007-03-31   -0.027915\n2007-04-30    0.016307\n2007-05-31    0.043393\n2007-06-30    0.035376\n2007-07-31   -0.009833\n2007-08-31   -0.034867\n2007-09-30    0.018032\n2007-10-31    0.039496\n2007-11-30   -0.023961\n2007-12-31   -0.022048\n2008-01-31   -0.015423\n2008-02-29   -0.035358\n2008-03-31   -0.044632\n2008-04-30    0.030384\n2008-05-31    0.029473\n2008-06-30   -0.014841\n2008-07-31   -0.073524\n2008-08-31   -0.018054\n2008-09-30    0.015886\n2008-10-31   -0.093664\n2008-11-30   -0.181980\n2008-12-31   -0.165405\n2009-01-31    0.135346\n2009-02-28   -0.119871\n2009-03-31   -0.159789\n2009-04-30    0.148307\n2009-05-31    0.080200\n2009-06-30    0.074548\n2009-07-31   -0.019086\n2009-08-31    0.083681\n2009-09-30   -0.002093\n2009-10-31    0.032878\n2009-11-30    0.013775\n2009-12-31    0.063869\nFreq: ME, Name: prccddiv, dtype: float64"
     },
     "execution_count": 89,
     "metadata": {},
     "output_type": "execute_result"
    }
   ],
   "source": [
    "sp_log_return_wrds.loc['2007-01-01':'2009-12-31']"
   ],
   "metadata": {
    "collapsed": false,
    "ExecuteTime": {
     "end_time": "2024-07-16T12:32:33.333240400Z",
     "start_time": "2024-07-16T12:32:33.321399400Z"
    }
   },
   "id": "94ac5a9061fe55d3",
   "execution_count": 89
  },
  {
   "cell_type": "code",
   "outputs": [
    {
     "data": {
      "text/plain": "            prccddiv\nDate                \n2007-01-31  0.015724\n2007-02-28  0.021599\n2007-03-31 -0.027915\n2007-04-30  0.016307\n2007-05-31  0.043393\n2007-06-30  0.035376\n2007-07-31 -0.009833\n2007-08-31 -0.034867\n2007-09-30  0.018032\n2007-10-31  0.039496\n2007-11-30 -0.023961\n2007-12-31 -0.022048\n2008-01-31 -0.015423\n2008-02-29 -0.035358\n2008-03-31 -0.044632\n2008-04-30  0.030384\n2008-05-31  0.029473\n2008-06-30 -0.014841\n2008-07-31 -0.073524\n2008-08-31 -0.018054\n2008-09-30  0.015886\n2008-10-31 -0.093664\n2008-11-30 -0.181980\n2008-12-31 -0.165405\n2009-01-31  0.135346\n2009-02-28 -0.119871\n2009-03-31 -0.159789\n2009-04-30  0.148307\n2009-05-31  0.080200\n2009-06-30  0.074548\n2009-07-31 -0.019086\n2009-08-31  0.083681\n2009-09-30 -0.002093\n2009-10-31  0.032878\n2009-11-30  0.013775\n2009-12-31  0.063869",
      "text/html": "<div>\n<style scoped>\n    .dataframe tbody tr th:only-of-type {\n        vertical-align: middle;\n    }\n\n    .dataframe tbody tr th {\n        vertical-align: top;\n    }\n\n    .dataframe thead th {\n        text-align: right;\n    }\n</style>\n<table border=\"1\" class=\"dataframe\">\n  <thead>\n    <tr style=\"text-align: right;\">\n      <th></th>\n      <th>prccddiv</th>\n    </tr>\n    <tr>\n      <th>Date</th>\n      <th></th>\n    </tr>\n  </thead>\n  <tbody>\n    <tr>\n      <th>2007-01-31</th>\n      <td>0.015724</td>\n    </tr>\n    <tr>\n      <th>2007-02-28</th>\n      <td>0.021599</td>\n    </tr>\n    <tr>\n      <th>2007-03-31</th>\n      <td>-0.027915</td>\n    </tr>\n    <tr>\n      <th>2007-04-30</th>\n      <td>0.016307</td>\n    </tr>\n    <tr>\n      <th>2007-05-31</th>\n      <td>0.043393</td>\n    </tr>\n    <tr>\n      <th>2007-06-30</th>\n      <td>0.035376</td>\n    </tr>\n    <tr>\n      <th>2007-07-31</th>\n      <td>-0.009833</td>\n    </tr>\n    <tr>\n      <th>2007-08-31</th>\n      <td>-0.034867</td>\n    </tr>\n    <tr>\n      <th>2007-09-30</th>\n      <td>0.018032</td>\n    </tr>\n    <tr>\n      <th>2007-10-31</th>\n      <td>0.039496</td>\n    </tr>\n    <tr>\n      <th>2007-11-30</th>\n      <td>-0.023961</td>\n    </tr>\n    <tr>\n      <th>2007-12-31</th>\n      <td>-0.022048</td>\n    </tr>\n    <tr>\n      <th>2008-01-31</th>\n      <td>-0.015423</td>\n    </tr>\n    <tr>\n      <th>2008-02-29</th>\n      <td>-0.035358</td>\n    </tr>\n    <tr>\n      <th>2008-03-31</th>\n      <td>-0.044632</td>\n    </tr>\n    <tr>\n      <th>2008-04-30</th>\n      <td>0.030384</td>\n    </tr>\n    <tr>\n      <th>2008-05-31</th>\n      <td>0.029473</td>\n    </tr>\n    <tr>\n      <th>2008-06-30</th>\n      <td>-0.014841</td>\n    </tr>\n    <tr>\n      <th>2008-07-31</th>\n      <td>-0.073524</td>\n    </tr>\n    <tr>\n      <th>2008-08-31</th>\n      <td>-0.018054</td>\n    </tr>\n    <tr>\n      <th>2008-09-30</th>\n      <td>0.015886</td>\n    </tr>\n    <tr>\n      <th>2008-10-31</th>\n      <td>-0.093664</td>\n    </tr>\n    <tr>\n      <th>2008-11-30</th>\n      <td>-0.181980</td>\n    </tr>\n    <tr>\n      <th>2008-12-31</th>\n      <td>-0.165405</td>\n    </tr>\n    <tr>\n      <th>2009-01-31</th>\n      <td>0.135346</td>\n    </tr>\n    <tr>\n      <th>2009-02-28</th>\n      <td>-0.119871</td>\n    </tr>\n    <tr>\n      <th>2009-03-31</th>\n      <td>-0.159789</td>\n    </tr>\n    <tr>\n      <th>2009-04-30</th>\n      <td>0.148307</td>\n    </tr>\n    <tr>\n      <th>2009-05-31</th>\n      <td>0.080200</td>\n    </tr>\n    <tr>\n      <th>2009-06-30</th>\n      <td>0.074548</td>\n    </tr>\n    <tr>\n      <th>2009-07-31</th>\n      <td>-0.019086</td>\n    </tr>\n    <tr>\n      <th>2009-08-31</th>\n      <td>0.083681</td>\n    </tr>\n    <tr>\n      <th>2009-09-30</th>\n      <td>-0.002093</td>\n    </tr>\n    <tr>\n      <th>2009-10-31</th>\n      <td>0.032878</td>\n    </tr>\n    <tr>\n      <th>2009-11-30</th>\n      <td>0.013775</td>\n    </tr>\n    <tr>\n      <th>2009-12-31</th>\n      <td>0.063869</td>\n    </tr>\n  </tbody>\n</table>\n</div>"
     },
     "execution_count": 88,
     "metadata": {},
     "output_type": "execute_result"
    }
   ],
   "source": [
    "sp_wrds.iloc[203:239]"
   ],
   "metadata": {
    "collapsed": false,
    "ExecuteTime": {
     "end_time": "2024-07-16T12:32:06.364592400Z",
     "start_time": "2024-07-16T12:32:06.350271900Z"
    }
   },
   "id": "27fc4dc95c0cf993",
   "execution_count": 88
  },
  {
   "cell_type": "code",
   "outputs": [],
   "source": [
    "range(203, 239)"
   ],
   "metadata": {
    "collapsed": false
   },
   "id": "20406eba6baf99a4"
  },
  {
   "cell_type": "code",
   "outputs": [
    {
     "data": {
      "text/plain": "prccddiv   -0.053221\ndtype: float64"
     },
     "execution_count": 86,
     "metadata": {},
     "output_type": "execute_result"
    }
   ],
   "source": [
    "np.exp(sp_wrds.iloc[203:239].mean() * 12) - 1"
   ],
   "metadata": {
    "collapsed": false,
    "ExecuteTime": {
     "end_time": "2024-07-16T12:31:20.292350700Z",
     "start_time": "2024-07-16T12:31:20.279948Z"
    }
   },
   "id": "1031f2217feffabb",
   "execution_count": 86
  },
  {
   "cell_type": "code",
   "outputs": [
    {
     "data": {
      "text/plain": "            prccddiv\nDate                \n2007-01-31  0.015724\n2007-02-28  0.021599\n2007-03-31 -0.027915\n2007-04-30  0.016307\n2007-05-31  0.043393\n2007-06-30  0.035376\n2007-07-31 -0.009833\n2007-08-31 -0.034867\n2007-09-30  0.018032\n2007-10-31  0.039496\n2007-11-30 -0.023961\n2007-12-31 -0.022048\n2008-01-31 -0.015423\n2008-02-29 -0.035358\n2008-03-31 -0.044632\n2008-04-30  0.030384\n2008-05-31  0.029473\n2008-06-30 -0.014841\n2008-07-31 -0.073524\n2008-08-31 -0.018054\n2008-09-30  0.015886\n2008-10-31 -0.093664\n2008-11-30 -0.181980\n2008-12-31 -0.165405\n2009-01-31  0.135346\n2009-02-28 -0.119871\n2009-03-31 -0.159789\n2009-04-30  0.148307\n2009-05-31  0.080200\n2009-06-30  0.074548\n2009-07-31 -0.019086\n2009-08-31  0.083681\n2009-09-30 -0.002093\n2009-10-31  0.032878\n2009-11-30  0.013775\n2009-12-31  0.063869",
      "text/html": "<div>\n<style scoped>\n    .dataframe tbody tr th:only-of-type {\n        vertical-align: middle;\n    }\n\n    .dataframe tbody tr th {\n        vertical-align: top;\n    }\n\n    .dataframe thead th {\n        text-align: right;\n    }\n</style>\n<table border=\"1\" class=\"dataframe\">\n  <thead>\n    <tr style=\"text-align: right;\">\n      <th></th>\n      <th>prccddiv</th>\n    </tr>\n    <tr>\n      <th>Date</th>\n      <th></th>\n    </tr>\n  </thead>\n  <tbody>\n    <tr>\n      <th>2007-01-31</th>\n      <td>0.015724</td>\n    </tr>\n    <tr>\n      <th>2007-02-28</th>\n      <td>0.021599</td>\n    </tr>\n    <tr>\n      <th>2007-03-31</th>\n      <td>-0.027915</td>\n    </tr>\n    <tr>\n      <th>2007-04-30</th>\n      <td>0.016307</td>\n    </tr>\n    <tr>\n      <th>2007-05-31</th>\n      <td>0.043393</td>\n    </tr>\n    <tr>\n      <th>2007-06-30</th>\n      <td>0.035376</td>\n    </tr>\n    <tr>\n      <th>2007-07-31</th>\n      <td>-0.009833</td>\n    </tr>\n    <tr>\n      <th>2007-08-31</th>\n      <td>-0.034867</td>\n    </tr>\n    <tr>\n      <th>2007-09-30</th>\n      <td>0.018032</td>\n    </tr>\n    <tr>\n      <th>2007-10-31</th>\n      <td>0.039496</td>\n    </tr>\n    <tr>\n      <th>2007-11-30</th>\n      <td>-0.023961</td>\n    </tr>\n    <tr>\n      <th>2007-12-31</th>\n      <td>-0.022048</td>\n    </tr>\n    <tr>\n      <th>2008-01-31</th>\n      <td>-0.015423</td>\n    </tr>\n    <tr>\n      <th>2008-02-29</th>\n      <td>-0.035358</td>\n    </tr>\n    <tr>\n      <th>2008-03-31</th>\n      <td>-0.044632</td>\n    </tr>\n    <tr>\n      <th>2008-04-30</th>\n      <td>0.030384</td>\n    </tr>\n    <tr>\n      <th>2008-05-31</th>\n      <td>0.029473</td>\n    </tr>\n    <tr>\n      <th>2008-06-30</th>\n      <td>-0.014841</td>\n    </tr>\n    <tr>\n      <th>2008-07-31</th>\n      <td>-0.073524</td>\n    </tr>\n    <tr>\n      <th>2008-08-31</th>\n      <td>-0.018054</td>\n    </tr>\n    <tr>\n      <th>2008-09-30</th>\n      <td>0.015886</td>\n    </tr>\n    <tr>\n      <th>2008-10-31</th>\n      <td>-0.093664</td>\n    </tr>\n    <tr>\n      <th>2008-11-30</th>\n      <td>-0.181980</td>\n    </tr>\n    <tr>\n      <th>2008-12-31</th>\n      <td>-0.165405</td>\n    </tr>\n    <tr>\n      <th>2009-01-31</th>\n      <td>0.135346</td>\n    </tr>\n    <tr>\n      <th>2009-02-28</th>\n      <td>-0.119871</td>\n    </tr>\n    <tr>\n      <th>2009-03-31</th>\n      <td>-0.159789</td>\n    </tr>\n    <tr>\n      <th>2009-04-30</th>\n      <td>0.148307</td>\n    </tr>\n    <tr>\n      <th>2009-05-31</th>\n      <td>0.080200</td>\n    </tr>\n    <tr>\n      <th>2009-06-30</th>\n      <td>0.074548</td>\n    </tr>\n    <tr>\n      <th>2009-07-31</th>\n      <td>-0.019086</td>\n    </tr>\n    <tr>\n      <th>2009-08-31</th>\n      <td>0.083681</td>\n    </tr>\n    <tr>\n      <th>2009-09-30</th>\n      <td>-0.002093</td>\n    </tr>\n    <tr>\n      <th>2009-10-31</th>\n      <td>0.032878</td>\n    </tr>\n    <tr>\n      <th>2009-11-30</th>\n      <td>0.013775</td>\n    </tr>\n    <tr>\n      <th>2009-12-31</th>\n      <td>0.063869</td>\n    </tr>\n  </tbody>\n</table>\n</div>"
     },
     "execution_count": 85,
     "metadata": {},
     "output_type": "execute_result"
    }
   ],
   "source": [
    "sp_wrds.iloc[203:239]"
   ],
   "metadata": {
    "collapsed": false,
    "ExecuteTime": {
     "end_time": "2024-07-16T12:30:56.521785800Z",
     "start_time": "2024-07-16T12:30:56.507492100Z"
    }
   },
   "id": "e70472e47a487fa0",
   "execution_count": 85
  },
  {
   "cell_type": "code",
   "outputs": [
    {
     "data": {
      "text/plain": "0.29009838948757616"
     },
     "execution_count": 90,
     "metadata": {},
     "output_type": "execute_result"
    }
   ],
   "source": [
    "np.exp(np.std(sp_log_return_wrds.loc['2007-01-01':'2009-12-01']) * np.sqrt(12)) - 1"
   ],
   "metadata": {
    "collapsed": false,
    "ExecuteTime": {
     "end_time": "2024-07-16T12:32:44.804415Z",
     "start_time": "2024-07-16T12:32:44.797948900Z"
    }
   },
   "id": "56775b3e2eaaf5e1",
   "execution_count": 90
  },
  {
   "cell_type": "code",
   "outputs": [
    {
     "data": {
      "text/plain": "-0.183775541843467"
     },
     "execution_count": 93,
     "metadata": {},
     "output_type": "execute_result"
    }
   ],
   "source": [
    "(np.exp(sp_log_return_wrds.loc['2007-01-01':'2009-12-31'].mean() * 12) - 1) / (\n",
    "            np.exp(np.std(sp_log_return_wrds.loc['2007-01-01':'2009-12-31']) * np.sqrt(12)) - 1)"
   ],
   "metadata": {
    "collapsed": false,
    "ExecuteTime": {
     "end_time": "2024-07-16T12:36:26.036856Z",
     "start_time": "2024-07-16T12:36:26.029351500Z"
    }
   },
   "id": "8b4bda4bacac1ae8",
   "execution_count": 93
  }
 ],
 "metadata": {
  "kernelspec": {
   "display_name": "Python 3",
   "language": "python",
   "name": "python3"
  },
  "language_info": {
   "codemirror_mode": {
    "name": "ipython",
    "version": 2
   },
   "file_extension": ".py",
   "mimetype": "text/x-python",
   "name": "python",
   "nbconvert_exporter": "python",
   "pygments_lexer": "ipython2",
   "version": "2.7.6"
  }
 },
 "nbformat": 4,
 "nbformat_minor": 5
}
