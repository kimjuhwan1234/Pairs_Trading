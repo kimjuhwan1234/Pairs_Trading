{
 "cells": [
  {
   "cell_type": "code",
   "outputs": [],
   "source": [
    "from PCA_and_ETC import *\n",
    "from scipy.stats.mstats import winsorize\n",
    "\n",
    "import numpy as np\n",
    "import pandas as pd\n",
    "\n",
    "warnings.filterwarnings(\"ignore\")"
   ],
   "metadata": {
    "collapsed": false,
    "ExecuteTime": {
     "end_time": "2024-06-16T21:21:34.363176900Z",
     "start_time": "2024-06-16T21:21:27.812434900Z"
    }
   },
   "id": "c5d1a2ece0815966",
   "execution_count": 1
  },
  {
   "cell_type": "code",
   "execution_count": 2,
   "id": "initial_id",
   "metadata": {
    "collapsed": true,
    "ExecuteTime": {
     "end_time": "2024-06-16T21:21:38.314953100Z",
     "start_time": "2024-06-16T21:21:34.363176900Z"
    }
   },
   "outputs": [],
   "source": [
    "gt = pd.read_csv('../Database/ETC/_momentum.csv', index_col=0)\n",
    "data = pd.read_csv('../Database/Momentum1_Original.csv', index_col=0)\n",
    "# data2 = pd.read_csv('../Files/Mom_merged_df.csv', index_col=0)\n",
    "# data2= pd.read_csv('../Database/momentum_us.csv', index_col=0)"
   ]
  },
  {
   "cell_type": "code",
   "outputs": [],
   "source": [
    "def winsorize_with_nan(series, limits):\n",
    "    series_no_nan = series.dropna()\n",
    "    winsorized_values = winsorize(series_no_nan, limits=limits)\n",
    "    series[series_no_nan.index] = winsorized_values\n",
    "\n",
    "for i, col in enumerate(data.columns):\n",
    "    winsorize_with_nan(data[col], [0.001, 0.001])"
   ],
   "metadata": {
    "collapsed": false,
    "ExecuteTime": {
     "end_time": "2024-06-16T21:21:38.949692300Z",
     "start_time": "2024-06-16T21:21:38.316953500Z"
    }
   },
   "id": "2d701ed7db329acd",
   "execution_count": 3
  },
  {
   "cell_type": "code",
   "outputs": [],
   "source": [
    "# df_winsorized = frame.copy()\n",
    "# for col in frame.columns:\n",
    "#     # NaN이 아닌 값들만 선택\n",
    "#     non_nan_values = frame[col].dropna()\n",
    "#     # Winsorize 적용\n",
    "#     winsorized_values = winsorize(non_nan_values, limits=[0.01, 0.01])\n",
    "#     # 원래 컬럼에 NaN을 제외한 위치에 winsorize된 값을 할당\n",
    "#     df_winsorized[col].loc[non_nan_values.index] = winsorized_values\n",
    "# \n",
    "# # 최종 winsorized 데이터의 '1990-01' 열에서의 최대값 확인\n",
    "# final_max_value = df_winsorized.max().max()\n",
    "# print(final_max_value)\n",
    "# df_winsorized.to_csv('../Database/mom2.csv')"
   ],
   "metadata": {
    "collapsed": false,
    "ExecuteTime": {
     "end_time": "2024-06-16T21:21:38.953732Z",
     "start_time": "2024-06-16T21:21:38.951226400Z"
    }
   },
   "id": "353546eb7139933",
   "execution_count": 4
  },
  {
   "cell_type": "code",
   "outputs": [
    {
     "name": "stdout",
     "output_type": "stream",
     "text": [
      "\n",
      "-0.5보다 작고 0.5보다 행의 개수: 527\n",
      "0.5보다 큰 행의 개수: 527\n",
      "-0.5보다 작은 행의 개수: 526\n",
      "0보다 큰 칸 갯수: 1155370\n",
      "0보다 작은 칸 갯수: 1056323\n",
      "mom1=0 비율: 3.89%\n",
      "NaN이 아닌 칸 비율:196.76%\n",
      "(528, 18430)\n",
      "\n",
      "Data_1:\n",
      "Min: -0.981294964199524\n",
      "Max: 308.6273259455655\n",
      "Mean: 0.01886779180514289\n",
      "\n",
      "-0.5보다 작고 0.5보다 행의 개수: 7385\n",
      "0.5보다 큰 행의 개수: 6495\n",
      "-0.5보다 작은 행의 개수: 4617\n",
      "0보다 큰 칸 갯수: 835622\n",
      "0보다 작은 칸 갯수: 772174\n",
      "mom1=0 비율: 2.59%\n",
      "NaN이 아닌 칸 비율:57.93%\n",
      "(9749, 392)\n",
      "\n",
      "Data_2:\n",
      "Min: -0.9375\n",
      "Max: 44.545243619489554\n",
      "Mean: 0.015747081468288446\n",
      "\n",
      "-0.5보다 작고 0.5보다 행의 개수: 7399\n",
      "0.5보다 큰 행의 개수: 6495\n",
      "-0.5보다 작은 행의 개수: 4650\n",
      "0보다 큰 칸 갯수: 835622\n",
      "0보다 작은 칸 갯수: 772174\n",
      "mom1=0 비율: 2.59%\n",
      "NaN이 아닌 칸 비율:57.93%\n",
      "(9749, 392)\n",
      "\n",
      "Data_3:\n",
      "Min: -0.9919204474829086\n",
      "Max: 3510.9999999999995\n",
      "Mean: 0.026323715287752306\n",
      "\n",
      "-0.5보다 작고 0.5보다 행의 개수: 7399\n",
      "0.5보다 큰 행의 개수: 6495\n",
      "-0.5보다 작은 행의 개수: 4650\n",
      "0보다 큰 칸 갯수: 835622\n",
      "0보다 작은 칸 갯수: 772174\n",
      "mom1=0 비율: 2.59%\n",
      "NaN이 아닌 칸 비율:57.93%\n",
      "(9749, 392)\n",
      "\n",
      "Data_4:\n",
      "Min: -0.9919204474829086\n",
      "Max: 1.0\n",
      "Mean: 0.009400768597773834\n"
     ]
    }
   ],
   "source": [
    "original = pd.read_csv('../Database/Momentum1_Original.csv', index_col=0)\n",
    "original2 = original.applymap(lambda x: 1 if x >= 1 else x)\n",
    "\n",
    "for i, df in enumerate([gt, data, original, original2]):\n",
    "    count1 = df[df >= 0].count().sum()\n",
    "    count2 = df[df < 0].count().sum()\n",
    "    count3 = df[df == 0].count().sum()\n",
    "    count4 = df.isna().sum().sum()\n",
    "    count5 = df.notna().sum().sum()\n",
    "\n",
    "    count_greater_than_0_5 = (df >= 0.5).any(axis=1).sum()\n",
    "    count_less_than_0_5 = (df <= -0.5).any(axis=1).sum()\n",
    "    count_both_0_5 = ((df <= -0.5) | (df >= 0.5)).any(axis=1).sum()\n",
    "\n",
    "    print(\"\\n-0.5보다 작고 0.5보다 행의 개수:\", count_both_0_5)\n",
    "    print(\"0.5보다 큰 행의 개수:\", count_greater_than_0_5)\n",
    "    print(\"-0.5보다 작은 행의 개수:\", count_less_than_0_5)\n",
    "    print('0보다 큰 칸 갯수:', count1)\n",
    "    print('0보다 작은 칸 갯수:', count2)\n",
    "    print(f'mom1=0 비율: {count3/count5*100:.2f}%')\n",
    "    t = count4 / (9749 * 392)\n",
    "    print(f'NaN이 아닌 칸 비율:{t * 100:.2f}%')\n",
    "    print(df.shape)\n",
    "    print(f\"\\nData_{i + 1}:\")\n",
    "    print(\"Min:\", np.min(df))\n",
    "    print(\"Max:\", np.max(df))\n",
    "    print(\"Mean:\", np.mean(df))"
   ],
   "metadata": {
    "collapsed": false,
    "ExecuteTime": {
     "end_time": "2024-06-16T21:21:41.859269200Z",
     "start_time": "2024-06-16T21:21:38.958732900Z"
    }
   },
   "id": "8acb7ccefc5d7a36",
   "execution_count": 5
  },
  {
   "cell_type": "code",
   "outputs": [],
   "source": [
    "data.to_csv('../Database/Momentum1_Winsorized.csv', index=True)"
   ],
   "metadata": {
    "collapsed": false,
    "ExecuteTime": {
     "end_time": "2024-06-16T21:21:44.836503100Z",
     "start_time": "2024-06-16T21:21:41.856268600Z"
    }
   },
   "id": "bd20163dfa0902c3",
   "execution_count": 6
  }
 ],
 "metadata": {
  "kernelspec": {
   "display_name": "Python 3",
   "language": "python",
   "name": "python3"
  },
  "language_info": {
   "codemirror_mode": {
    "name": "ipython",
    "version": 2
   },
   "file_extension": ".py",
   "mimetype": "text/x-python",
   "name": "python",
   "nbconvert_exporter": "python",
   "pygments_lexer": "ipython2",
   "version": "2.7.6"
  }
 },
 "nbformat": 4,
 "nbformat_minor": 5
}
