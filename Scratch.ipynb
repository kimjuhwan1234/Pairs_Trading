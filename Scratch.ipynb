{
 "cells": [
  {
   "cell_type": "code",
   "outputs": [],
   "source": [
    "import os\n",
    "from utils.PCA_and_ETC import read_and_preprocess_data"
   ],
   "metadata": {
    "collapsed": false,
    "ExecuteTime": {
     "end_time": "2024-08-08T08:19:39.871751600Z",
     "start_time": "2024-08-08T08:19:38.677808100Z"
    }
   },
   "id": "f12dca4d9032c154",
   "execution_count": 3
  },
  {
   "cell_type": "code",
   "outputs": [],
   "source": [
    "cl_list = ['60_characteristics_us', '70_characteristics_us', '80_characteristics_us', '90_characteristics_us']\n",
    "cl_list = [f'{i}_characteristics_us' for i in range(10, 80, 10)]\n",
    "for j in [0.1, 0.2, 0.3, 0.4, 0.5, 0.6, 0.7, 0.8, 0.9]:\n",
    "\n",
    "    for a in cl_list:\n",
    "        input_dir = f'../Database/Clustering_Result/Contrastive_Learning2/{a}'\n",
    "        input_dir2 = f'../Database/Clustering_Result/Contrastive_Learning2/Prob/{a}'\n",
    "        output_dir = f'../Database/Clustering_Result/Contrastive_Learning2/CL_Pre_{j}/{a}'\n",
    "\n",
    "        files = sorted(filename for filename in os.listdir(input_dir))\n",
    "\n",
    "        for file in files:\n",
    "            data = read_and_preprocess_data(input_dir, file)\n",
    "            prob = read_and_preprocess_data(input_dir2, file)\n",
    "            prob.index = prob['firms']\n",
    "            prob = prob.drop(columns='firms')\n",
    "            prob_filtered = prob[(prob.max(axis=1) <= prob.max(axis=1).quantile(j))]\n",
    "            data.loc[prob_filtered.index, 'clusters'] = 0\n",
    "            data.to_csv(os.path.join(output_dir, file))"
   ],
   "metadata": {
    "collapsed": false,
    "ExecuteTime": {
     "end_time": "2024-07-17T05:41:51.099640700Z",
     "start_time": "2024-07-17T05:41:51.095626100Z"
    }
   },
   "id": "fe894ae54083ca12",
   "execution_count": 2
  }
 ],
 "metadata": {
  "kernelspec": {
   "display_name": "Python 3",
   "language": "python",
   "name": "python3"
  },
  "language_info": {
   "codemirror_mode": {
    "name": "ipython",
    "version": 2
   },
   "file_extension": ".py",
   "mimetype": "text/x-python",
   "name": "python",
   "nbconvert_exporter": "python",
   "pygments_lexer": "ipython2",
   "version": "2.7.6"
  }
 },
 "nbformat": 4,
 "nbformat_minor": 5
}
